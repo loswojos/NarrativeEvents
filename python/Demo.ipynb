{
 "metadata": {
  "name": ""
 },
 "nbformat": 3,
 "nbformat_minor": 0,
 "worksheets": [
  {
   "cells": [
    {
     "cell_type": "code",
     "collapsed": false,
     "input": [
      "from Narrative import *"
     ],
     "language": "python",
     "metadata": {},
     "outputs": [],
     "prompt_number": 1
    },
    {
     "cell_type": "code",
     "collapsed": false,
     "input": [
      "# Directory containing xml files annotated by Stanford Dependency Parser\n",
      "dep_dir = '/Users/wojo/Projects/narrative/CorenlpXmlToPython-master/typhoons_to_mike'"
     ],
     "language": "python",
     "metadata": {},
     "outputs": [],
     "prompt_number": 2
    },
    {
     "cell_type": "code",
     "collapsed": false,
     "input": [
      "nb = NarrativeBank(dep_dir)"
     ],
     "language": "python",
     "metadata": {},
     "outputs": [
      {
       "output_type": "stream",
       "stream": "stderr",
       "text": [
        "Coref not implemented.\n"
       ]
      },
      {
       "output_type": "stream",
       "stream": "stderr",
       "text": [
        "Coref not implemented.\n"
       ]
      },
      {
       "output_type": "stream",
       "stream": "stderr",
       "text": [
        "Coref not implemented.\n"
       ]
      },
      {
       "output_type": "stream",
       "stream": "stderr",
       "text": [
        "Coref not implemented.\n"
       ]
      },
      {
       "output_type": "stream",
       "stream": "stderr",
       "text": [
        "Coref not implemented.\n"
       ]
      },
      {
       "output_type": "stream",
       "stream": "stderr",
       "text": [
        "Coref not implemented.\n"
       ]
      },
      {
       "output_type": "stream",
       "stream": "stderr",
       "text": [
        "Coref not implemented.\n"
       ]
      },
      {
       "output_type": "stream",
       "stream": "stderr",
       "text": [
        "Coref not implemented.\n"
       ]
      },
      {
       "output_type": "stream",
       "stream": "stderr",
       "text": [
        "Coref not implemented.\n"
       ]
      },
      {
       "output_type": "stream",
       "stream": "stderr",
       "text": [
        "Coref not implemented.\n"
       ]
      },
      {
       "output_type": "stream",
       "stream": "stderr",
       "text": [
        "Coref not implemented.\n"
       ]
      },
      {
       "output_type": "stream",
       "stream": "stderr",
       "text": [
        "Coref not implemented.\n"
       ]
      },
      {
       "output_type": "stream",
       "stream": "stderr",
       "text": [
        "Coref not implemented.\n"
       ]
      },
      {
       "output_type": "stream",
       "stream": "stderr",
       "text": [
        "Coref not implemented.\n"
       ]
      },
      {
       "output_type": "stream",
       "stream": "stderr",
       "text": [
        "Coref not implemented.\n"
       ]
      },
      {
       "output_type": "stream",
       "stream": "stderr",
       "text": [
        "Coref not implemented.\n"
       ]
      },
      {
       "output_type": "stream",
       "stream": "stderr",
       "text": [
        "Coref not implemented.\n"
       ]
      }
     ],
     "prompt_number": 3
    },
    {
     "cell_type": "code",
     "collapsed": false,
     "input": [
      "# Protagonists involved in an event\n",
      "verb = 'flood'\n",
      "nb.entities_in(verb)"
     ],
     "language": "python",
     "metadata": {},
     "outputs": [
      {
       "metadata": {},
       "output_type": "pyout",
       "prompt_number": 7,
       "text": [
        "[Event(verb=u'flood', entity=u'rainfall'),\n",
        " Event(verb=u'flood', entity=u'town'),\n",
        " Event(verb=u'flood', entity=u'kayangel'),\n",
        " Event(verb=u'flood', entity=u'house'),\n",
        " Event(verb=u'flood', entity=u'rain'),\n",
        " Event(verb=u'flood', entity=u'home'),\n",
        " Event(verb=u'flood', entity=u'area')]"
       ]
      }
     ],
     "prompt_number": 7
    },
    {
     "cell_type": "code",
     "collapsed": false,
     "input": [
      "# Events involving a protagonist\n",
      "protag = 'rain'\n",
      "nb.events_for(protag)"
     ],
     "language": "python",
     "metadata": {},
     "outputs": [
      {
       "metadata": {},
       "output_type": "pyout",
       "prompt_number": 8,
       "text": [
        "[Event(verb=u'experience', entity=u'rain'),\n",
        " Event(verb=u'cause', entity=u'rain'),\n",
        " Event(verb=u'soak', entity=u'rain'),\n",
        " Event(verb=u'trigger', entity=u'rain'),\n",
        " Event(verb=u'swell', entity=u'rain'),\n",
        " Event(verb=u'submerge', entity=u'rain'),\n",
        " Event(verb=u'lead', entity=u'rain'),\n",
        " Event(verb=u'batter', entity=u'rain'),\n",
        " Event(verb=u'precede', entity=u'rain'),\n",
        " Event(verb=u'flood', entity=u'rain'),\n",
        " Event(verb=u'produce', entity=u'rain'),\n",
        " Event(verb=u'bring', entity=u'rain'),\n",
        " Event(verb=u'warn', entity=u'rain'),\n",
        " Event(verb=u'escape', entity=u'rain'),\n",
        " Event(verb=u'dump', entity=u'rain'),\n",
        " Event(verb=u'affect', entity=u'rain'),\n",
        " Event(verb=u'lash', entity=u'rain'),\n",
        " Event(verb=u'expect', entity=u'rain'),\n",
        " Event(verb=u'disrupt', entity=u'rain'),\n",
        " Event(verb=u'fuel', entity=u'rain'),\n",
        " Event(verb=u'continue', entity=u'rain'),\n",
        " Event(verb=u'subside', entity=u'rain')]"
       ]
      }
     ],
     "prompt_number": 8
    },
    {
     "cell_type": "code",
     "collapsed": false,
     "input": [
      "nb.count(verb, protag)"
     ],
     "language": "python",
     "metadata": {},
     "outputs": [
      {
       "metadata": {},
       "output_type": "pyout",
       "prompt_number": 9,
       "text": [
        "3"
       ]
      }
     ],
     "prompt_number": 9
    },
    {
     "cell_type": "code",
     "collapsed": false,
     "input": [],
     "language": "python",
     "metadata": {},
     "outputs": []
    }
   ],
   "metadata": {}
  }
 ]
}