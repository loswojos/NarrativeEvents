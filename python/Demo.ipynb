{
 "metadata": {
  "name": ""
 },
 "nbformat": 3,
 "nbformat_minor": 0,
 "worksheets": [
  {
   "cells": [
    {
     "cell_type": "code",
     "collapsed": false,
     "input": [
      "from Builder import *\n",
      "from NarrativeEvent import *\n",
      "%pylab inline"
     ],
     "language": "python",
     "metadata": {},
     "outputs": [
      {
       "output_type": "stream",
       "stream": "stdout",
       "text": [
        "Populating the interactive namespace from numpy and matplotlib\n"
       ]
      }
     ],
     "prompt_number": 1
    },
    {
     "cell_type": "code",
     "collapsed": false,
     "input": [
      "# Directory containing xml files annotated by Stanford Dependency Parser\n",
      "dep_dir = '/Users/wojo/Projects/hurricanes/CorenlpXmlToPython-master/typhoons_to_mike'"
     ],
     "language": "python",
     "metadata": {},
     "outputs": [],
     "prompt_number": 2
    },
    {
     "cell_type": "code",
     "collapsed": false,
     "input": [
      "entityVerbMap = build(dep_dir)"
     ],
     "language": "python",
     "metadata": {},
     "outputs": [
      {
       "output_type": "stream",
       "stream": "stdout",
       "text": [
        "STRING FAILED: XXXX-08-03T12:00+0000\n",
        "STRING FAILED: XXXX-08-03T12:00+0000\n",
        "STRING FAILED: XXXX-08-03T12:00+0000\n",
        "STRING FAILED: XXXX-08-03T12:00+0000\n",
        "STRING FAILED: XXXX-08-03T12:00+0000\n",
        "STRING FAILED: XXXX-06-30T02:30+0000"
       ]
      },
      {
       "output_type": "stream",
       "stream": "stdout",
       "text": [
        "\n",
        "STRING FAILED: XXXX-06-30T02:30+0000\n",
        "STRING FAILED: XXXX-06-30T02:30+0000\n",
        "STRING FAILED: XXXX-06-30T02:30+0000\n",
        "STRING FAILED: XXXX-06-30T02:30+0000\n",
        "STRING FAILED: T06:00+0000\n",
        "STRING FAILED: T06:00+0000\n",
        "STRING FAILED: T12:00+0000\n",
        "STRING FAILED: T12:00+0000\n",
        "STRING FAILED: XXXX-07-18T05:00-0800"
       ]
      },
      {
       "output_type": "stream",
       "stream": "stdout",
       "text": [
        "\n",
        "STRING FAILED: XXXX-07-18T05:00-0800\n",
        "STRING FAILED: XXXX-07-18T05:00-0800\n",
        "STRING FAILED: XXXX-07-18T05:00-0800\n",
        "STRING FAILED: XXXX-07-18T05:00-0800\n",
        "STRING FAILED: T13:40+0000\n",
        "STRING FAILED: T13:40+0000\n",
        "STRING FAILED: T01:20+0000\n",
        "STRING FAILED: T01:20+0000\n",
        "STRING FAILED: T07:00+0000"
       ]
      },
      {
       "output_type": "stream",
       "stream": "stdout",
       "text": [
        "\n",
        "STRING FAILED: T07:00+0000\n",
        "STRING FAILED: T07:00+0000\n",
        "STRING FAILED: T07:00+0000\n",
        "STRING FAILED: TDT"
       ]
      },
      {
       "output_type": "stream",
       "stream": "stdout",
       "text": [
        "\n",
        "STRING FAILED: XXXX-11-09T19:10+0800"
       ]
      },
      {
       "output_type": "stream",
       "stream": "stdout",
       "text": [
        "\n",
        "STRING FAILED: XXXX-11-09T19:10+0800\n",
        "STRING FAILED: XXXX-11-09T19:10+0800\n",
        "STRING FAILED: XXXX-11-09T19:10+0800\n",
        "STRING FAILED: XXXX-11-09T19:10+0800\n",
        "STRING FAILED: XXXX-10-17T18:00+0000"
       ]
      },
      {
       "output_type": "stream",
       "stream": "stdout",
       "text": [
        "\n",
        "STRING FAILED: XXXX-10-17T18:00+0000\n",
        "STRING FAILED: XXXX-10-17T18:00+0000\n",
        "STRING FAILED: XXXX-10-17T18:00+0000\n",
        "STRING FAILED: XXXX-10-17T18:00+0000\n",
        "STRING FAILED: XXXX-10-18T00:00+0000\n",
        "STRING FAILED: XXXX-10-18T00:00+0000\n",
        "STRING FAILED: XXXX-10-18T00:00+0000\n",
        "STRING FAILED: XXXX-10-18T00:00+0000\n",
        "STRING FAILED: XXXX-10-18T00:00+0000\n",
        "STRING FAILED: XXXX-10-18T03:00+0000\n",
        "STRING FAILED: XXXX-10-18T03:00+0000\n",
        "STRING FAILED: XXXX-10-18T03:00+0000\n",
        "STRING FAILED: XXXX-10-18T03:00+0000\n",
        "STRING FAILED: XXXX-10-18T03:00+0000\n",
        "STRING FAILED: T03:25+0000\n",
        "STRING FAILED: T03:25+0000\n",
        "STRING FAILED: T19:00+0800"
       ]
      },
      {
       "output_type": "stream",
       "stream": "stdout",
       "text": [
        "\n",
        "STRING FAILED: T19:00+0800\n",
        "STRING FAILED: T11:00+0000\n",
        "STRING FAILED: T11:00+0000\n",
        "STRING FAILED: T16:35+0800\n",
        "STRING FAILED: T16:35+0800\n",
        "STRING FAILED: T08:35+0000\n",
        "STRING FAILED: T08:35+0000\n",
        "STRING FAILED: T05:40+0800\n",
        "STRING FAILED: T05:40+0800\n",
        "STRING FAILED: T21:40+0000\n",
        "STRING FAILED: T21:40+0000\n",
        "STRING FAILED: T09:00+0000\n",
        "STRING FAILED: T09:00+0000\n",
        "STRING FAILED: T12:00+0000\n",
        "STRING FAILED: T12:00+0000\n",
        "STRING FAILED: T13:05+0000"
       ]
      },
      {
       "output_type": "stream",
       "stream": "stdout",
       "text": [
        "\n",
        "STRING FAILED: T13:05+0000\n",
        "STRING FAILED: T18:00+0000\n",
        "STRING FAILED: T18:00+0000\n",
        "STRING FAILED: T03:25+0000\n",
        "STRING FAILED: T03:25+0000\n",
        "STRING FAILED: T11:25-0800\n",
        "STRING FAILED: T11:25-0800\n",
        "STRING FAILED: T04:55+0000\n",
        "STRING FAILED: T04:55+0000\n",
        "STRING FAILED: T12:00+0000\n",
        "STRING FAILED: T12:00+0000\n",
        "STRING FAILED: T00:00+0000\n",
        "STRING FAILED: T00:00+0000\n",
        "STRING FAILED: T08:00-0800"
       ]
      },
      {
       "output_type": "stream",
       "stream": "stdout",
       "text": [
        "\n",
        "STRING FAILED: T08:00-0800\n",
        "STRING FAILED: T08:00-0800\n",
        "STRING FAILED: T08:00-0800\n",
        "STRING FAILED: T14:00-0800"
       ]
      },
      {
       "output_type": "stream",
       "stream": "stdout",
       "text": [
        "\n",
        "STRING FAILED: T14:00-0800\n",
        "STRING FAILED: T14:00-0800\n"
       ]
      }
     ],
     "prompt_number": 3
    },
    {
     "cell_type": "code",
     "collapsed": false,
     "input": [
      "protags = induct(entityVerbMap)"
     ],
     "language": "python",
     "metadata": {},
     "outputs": [],
     "prompt_number": 4
    },
    {
     "cell_type": "code",
     "collapsed": false,
     "input": [
      "protags.keys()[0:20]"
     ],
     "language": "python",
     "metadata": {},
     "outputs": [
      {
       "metadata": {},
       "output_type": "pyout",
       "prompt_number": 5,
       "text": [
        "['lack',\n",
        " 'focus',\n",
        " 'protest',\n",
        " 'mile',\n",
        " 'Bureau',\n",
        " 'krosa',\n",
        " 'passage',\n",
        " 'Ying-jeou',\n",
        " 'worth',\n",
        " 'Arroyo',\n",
        " 'woman',\n",
        " 'rescue',\n",
        " 'NDRRMC',\n",
        " 'wave',\n",
        " 'trough',\n",
        " 'Henry',\n",
        " 'condition',\n",
        " 'school',\n",
        " 'Geophysical',\n",
        " 'UNICEF']"
       ]
      }
     ],
     "prompt_number": 5
    },
    {
     "cell_type": "code",
     "collapsed": false,
     "input": [
      "nara = protags['typhoon']"
     ],
     "language": "python",
     "metadata": {},
     "outputs": [],
     "prompt_number": 6
    },
    {
     "cell_type": "code",
     "collapsed": false,
     "input": [
      "print 'Protagonist: %s' % nara.name\n",
      "print 'Mentions: %d' % nara.protagonist.numEvents()\n",
      "print 'Event Pairs: %d (unique = %d)' % (nara.protagonist.numPairs(), nara.protagonist.uniquePairs())\n",
      "print 'Events %d (unique = %d)' % (nara.protagonist.numEvents(), nara.protagonist.uniqueEvents())"
     ],
     "language": "python",
     "metadata": {},
     "outputs": [
      {
       "output_type": "stream",
       "stream": "stdout",
       "text": [
        "Protagonist: typhoon\n",
        "Mentions: 117\n",
        "Event Pairs: 617 (unique = 398)\n",
        "Events 117 (unique = 60)\n"
       ]
      }
     ],
     "prompt_number": 7
    },
    {
     "cell_type": "code",
     "collapsed": false,
     "input": [
      "print '\\'Verb\\' : (Id, Count)'\n",
      "sorted(nara.protagonist.events.verbs.items(), key=lambda (k,v): v[1], reverse=True)[0:6]"
     ],
     "language": "python",
     "metadata": {},
     "outputs": [
      {
       "output_type": "stream",
       "stream": "stdout",
       "text": [
        "'Verb' : (Id, Count)\n"
       ]
      },
      {
       "metadata": {},
       "output_type": "pyout",
       "prompt_number": 8,
       "text": [
        "[('move', (9, 8)),\n",
        " ('strike', (1, 8)),\n",
        " ('destroy', (5, 5)),\n",
        " ('cause', (0, 5)),\n",
        " ('affect', (31, 5)),\n",
        " ('hit', (17, 4))]"
       ]
      }
     ],
     "prompt_number": 8
    },
    {
     "cell_type": "code",
     "collapsed": false,
     "input": [
      "print '(\\'Verb\\', \\'Verb\\') : Count'\n",
      "sorted(nara.protagonist.pairs.pairs.items(), key=lambda (k,v): v, reverse=True)[0:5]"
     ],
     "language": "python",
     "metadata": {},
     "outputs": [
      {
       "output_type": "stream",
       "stream": "stdout",
       "text": [
        "('Verb', 'Verb') : Count\n"
       ]
      },
      {
       "metadata": {},
       "output_type": "pyout",
       "prompt_number": 9,
       "text": [
        "[(('move', 'maintain'), 12),\n",
        " (('pour', 'maintain'), 6),\n",
        " (('dump', 'move'), 6),\n",
        " (('result', 'maintain'), 6),\n",
        " (('dump', 'maintain'), 6)]"
       ]
      }
     ],
     "prompt_number": 9
    },
    {
     "cell_type": "code",
     "collapsed": false,
     "input": [
      "print 'Adjacency Matrix'\n",
      "print nara.eventMatrix.adjMatrix[28:35, 28:35]"
     ],
     "language": "python",
     "metadata": {},
     "outputs": [
      {
       "output_type": "stream",
       "stream": "stdout",
       "text": [
        "Adjacency Matrix\n",
        "[[0 2 0 0 0 0 0]\n",
        " [0 0 0 0 0 0 0]\n",
        " [1 0 0 1 1 1 1]\n",
        " [1 0 0 0 1 1 1]\n",
        " [1 0 0 0 0 1 1]\n",
        " [1 0 0 0 0 0 1]\n",
        " [1 0 0 0 0 0 0]]\n"
       ]
      }
     ],
     "prompt_number": 10
    },
    {
     "cell_type": "code",
     "collapsed": false,
     "input": [
      "print 'PMI Adjacency Matrix'\n",
      "print nara.eventMatrix.pmiMatrix[28:35, 28:35]"
     ],
     "language": "python",
     "metadata": {},
     "outputs": [
      {
       "output_type": "stream",
       "stream": "stdout",
       "text": [
        "PMI Adjacency Matrix\n",
        "[[ 0.          0.88927403  0.          0.          0.          0.          0.        ]\n",
        " [ 0.          0.          0.          0.          0.          0.          0.        ]\n",
        " [ 0.50021664  0.          0.          0.37251023  0.77486971  0.77486971\n",
        "   0.60158292]\n",
        " [ 0.14678574  0.          0.          0.          0.37251023  0.37251023\n",
        "   0.26563125]\n",
        " [ 0.50021664  0.          0.          0.          0.          0.77486971\n",
        "   0.60158292]\n",
        " [ 0.50021664  0.          0.          0.          0.          0.\n",
        "   0.60158292]\n",
        " [ 0.43590646  0.          0.          0.          0.          0.          0.        ]]\n"
       ]
      }
     ],
     "prompt_number": 11
    },
    {
     "cell_type": "code",
     "collapsed": false,
     "input": [
      "G = nara.pmiGraph"
     ],
     "language": "python",
     "metadata": {},
     "outputs": [],
     "prompt_number": 12
    },
    {
     "cell_type": "code",
     "collapsed": false,
     "input": [
      "G = nx.connected_component_subgraphs(G)[0]"
     ],
     "language": "python",
     "metadata": {},
     "outputs": [],
     "prompt_number": 13
    },
    {
     "cell_type": "code",
     "collapsed": false,
     "input": [
      "# Node positioning algorithm\n",
      "node_pos = nx.spring_layout(G)\n",
      "# Draw graph acc1rding to positioning algorithm\n",
      "nx.draw(G, node_pos);\n",
      "# Draw edge labels\n",
      "#edge_labels = G.graph['edge_labels']\n",
      "edge_labels = dict([((u,v,), '%.3g' % d['weight']) for u,v,d in G.edges(data=True)]);\n",
      "nx.draw_networkx_edge_labels(G, node_pos, edge_labels=edge_labels)"
     ],
     "language": "python",
     "metadata": {},
     "outputs": [
      {
       "metadata": {},
       "output_type": "pyout",
       "prompt_number": 14,
       "text": [
        "{('affect', 'execute'): <matplotlib.text.Text at 0x1096a1b50>,\n",
        " ('affect', 'steer'): <matplotlib.text.Text at 0x1091920d0>,\n",
        " ('affect', 'turn'): <matplotlib.text.Text at 0x109689e10>,\n",
        " ('approach', 'enter'): <matplotlib.text.Text at 0x1091a8550>,\n",
        " ('approach', 'leave'): <matplotlib.text.Text at 0x109f24810>,\n",
        " ('arrive', 'approach'): <matplotlib.text.Text at 0x1091ac6d0>,\n",
        " ('arrive', 'enter'): <matplotlib.text.Text at 0x109690c50>,\n",
        " ('arrive', 'leave'): <matplotlib.text.Text at 0x10a0048d0>,\n",
        " ('be', 'affect'): <matplotlib.text.Text at 0x10968d5d0>,\n",
        " ('be', 'form'): <matplotlib.text.Text at 0x1096b4e50>,\n",
        " ('be', 'reach'): <matplotlib.text.Text at 0x10a0d6b50>,\n",
        " ('be', 'turn'): <matplotlib.text.Text at 0x109188950>,\n",
        " ('begin', 'continue'): <matplotlib.text.Text at 0x10a00dbd0>,\n",
        " ('begin', 'reach'): <matplotlib.text.Text at 0x1094b5b50>,\n",
        " ('cause', 'begin'): <matplotlib.text.Text at 0x10a76a4d0>,\n",
        " ('cause', 'continue'): <matplotlib.text.Text at 0x109def350>,\n",
        " ('cause', 'follow'): <matplotlib.text.Text at 0x10ab7c610>,\n",
        " ('cause', 'hit'): <matplotlib.text.Text at 0x10949c850>,\n",
        " ('cause', 'produce'): <matplotlib.text.Text at 0x10ab987d0>,\n",
        " ('cause', 'reach'): <matplotlib.text.Text at 0x1096ab390>,\n",
        " ('cause', 'ride'): <matplotlib.text.Text at 0x10a0ca850>,\n",
        " ('cause', 'turn'): <matplotlib.text.Text at 0x1098dc910>,\n",
        " ('close', 'affect'): <matplotlib.text.Text at 0x1094a2f90>,\n",
        " ('close', 'destroy'): <matplotlib.text.Text at 0x109484a10>,\n",
        " ('close', 'intensify'): <matplotlib.text.Text at 0x109dd5a10>,\n",
        " ('come', 'breach'): <matplotlib.text.Text at 0x1091a1f50>,\n",
        " ('come', 'destroy'): <matplotlib.text.Text at 0x109dd5450>,\n",
        " ('come', 'take'): <matplotlib.text.Text at 0x10a9271d0>,\n",
        " ('connect', 'cause'): <matplotlib.text.Text at 0x10a01b4d0>,\n",
        " ('connect', 'follow'): <matplotlib.text.Text at 0x109180c10>,\n",
        " ('connect', 'hit'): <matplotlib.text.Text at 0x10a037dd0>,\n",
        " ('connect', 'make'): <matplotlib.text.Text at 0x10a772fd0>,\n",
        " ('connect', 'ride'): <matplotlib.text.Text at 0x109df3c10>,\n",
        " ('connect', 'stricken'): <matplotlib.text.Text at 0x1098d0610>,\n",
        " ('connect', 'strike'): <matplotlib.text.Text at 0x1094b6dd0>,\n",
        " ('consider', 'cause'): <matplotlib.text.Text at 0x1098c88d0>,\n",
        " ('consider', 'destroy'): <matplotlib.text.Text at 0x10949b0d0>,\n",
        " ('consider', 'injure'): <matplotlib.text.Text at 0x108f22c10>,\n",
        " ('consider', 'make'): <matplotlib.text.Text at 0x108fa9a90>,\n",
        " ('consider', 'move'): <matplotlib.text.Text at 0x109a61990>,\n",
        " ('consider', 'pass'): <matplotlib.text.Text at 0x109dead50>,\n",
        " ('consider', 'produce'): <matplotlib.text.Text at 0x10918aa90>,\n",
        " ('consider', 'result'): <matplotlib.text.Text at 0x10a0237d0>,\n",
        " ('consider', 'strike'): <matplotlib.text.Text at 0x10a022650>,\n",
        " ('consider', 'turn'): <matplotlib.text.Text at 0x1098dced0>,\n",
        " ('continue', 'attain'): <matplotlib.text.Text at 0x10949f710>,\n",
        " ('damage', 'reach'): <matplotlib.text.Text at 0x10ab9c390>,\n",
        " ('delay', 'remain'): <matplotlib.text.Text at 0x109754c50>,\n",
        " ('delay', 'turn'): <matplotlib.text.Text at 0x108f8d050>,\n",
        " ('delay', 'undergo'): <matplotlib.text.Text at 0x1091b9f90>,\n",
        " ('destroy', 'affect'): <matplotlib.text.Text at 0x10a022090>,\n",
        " ('destroy', 'attain'): <matplotlib.text.Text at 0x109dde490>,\n",
        " ('destroy', 'be'): <matplotlib.text.Text at 0x1096f4250>,\n",
        " ('destroy', 'breach'): <matplotlib.text.Text at 0x1098eb7d0>,\n",
        " ('destroy', 'cause'): <matplotlib.text.Text at 0x10a029f10>,\n",
        " ('destroy', 'continue'): <matplotlib.text.Text at 0x1094aee50>,\n",
        " ('destroy', 'drop'): <matplotlib.text.Text at 0x10ab8f4d0>,\n",
        " ('destroy', 'form'): <matplotlib.text.Text at 0x1098d0050>,\n",
        " ('destroy', 'leave'): <matplotlib.text.Text at 0x1096ac250>,\n",
        " ('destroy', 'produce'): <matplotlib.text.Text at 0x10ab73990>,\n",
        " ('destroy', 'reach'): <matplotlib.text.Text at 0x10a004310>,\n",
        " ('destroy', 'turn'): <matplotlib.text.Text at 0x10ab6cc10>,\n",
        " ('develop', 'displace'): <matplotlib.text.Text at 0x10a037810>,\n",
        " ('develop', 'drift'): <matplotlib.text.Text at 0x109df1590>,\n",
        " ('develop', 'enhance'): <matplotlib.text.Text at 0x109dc7750>,\n",
        " ('develop', 'hit'): <matplotlib.text.Text at 0x10a0e0e50>,\n",
        " ('develop', 'name'): <matplotlib.text.Text at 0x109df3090>,\n",
        " ('develop', 'pour'): <matplotlib.text.Text at 0x1096949d0>,\n",
        " ('develop', 'trigger'): <matplotlib.text.Text at 0x10a0dc150>,\n",
        " ('displace', 'enhance'): <matplotlib.text.Text at 0x1098cc490>,\n",
        " ('displace', 'name'): <matplotlib.text.Text at 0x10ab73f50>,\n",
        " ('displace', 'pour'): <matplotlib.text.Text at 0x109192690>,\n",
        " ('drift', 'displace'): <matplotlib.text.Text at 0x109d25a10>,\n",
        " ('drift', 'enhance'): <matplotlib.text.Text at 0x10949ce10>,\n",
        " ('drift', 'name'): <matplotlib.text.Text at 0x1091b8350>,\n",
        " ('drift', 'pour'): <matplotlib.text.Text at 0x10a029390>,\n",
        " ('drop', 'attain'): <matplotlib.text.Text at 0x10a0c1550>,\n",
        " ('drop', 'continue'): <matplotlib.text.Text at 0x10a016350>,\n",
        " ('drop', 'leave'): <matplotlib.text.Text at 0x10a0f48d0>,\n",
        " ('drop', 'turn'): <matplotlib.text.Text at 0x109180090>,\n",
        " ('dump', 'develop'): <matplotlib.text.Text at 0x10a0f1990>,\n",
        " ('dump', 'displace'): <matplotlib.text.Text at 0x109df94d0>,\n",
        " ('dump', 'drift'): <matplotlib.text.Text at 0x1091a13d0>,\n",
        " ('dump', 'enhance'): <matplotlib.text.Text at 0x109f193d0>,\n",
        " ('dump', 'hit'): <matplotlib.text.Text at 0x10a0f4e90>,\n",
        " ('dump', 'maintain'): <matplotlib.text.Text at 0x1098e7650>,\n",
        " ('dump', 'move'): <matplotlib.text.Text at 0x109dc7190>,\n",
        " ('dump', 'name'): <matplotlib.text.Text at 0x10a0330d0>,\n",
        " ('dump', 'pour'): <matplotlib.text.Text at 0x10a0c56d0>,\n",
        " ('dump', 'result'): <matplotlib.text.Text at 0x109192c50>,\n",
        " ('dump', 'slow'): <matplotlib.text.Text at 0x10a0edd10>,\n",
        " ('dump', 'trigger'): <matplotlib.text.Text at 0x10a0e9b90>,\n",
        " ('execute', 'steer'): <matplotlib.text.Text at 0x10a029950>,\n",
        " ('expect', 'attain'): <matplotlib.text.Text at 0x10a0ed750>,\n",
        " ('expect', 'continue'): <matplotlib.text.Text at 0x10a771090>,\n",
        " ('expect', 'destroy'): <matplotlib.text.Text at 0x109de0050>,\n",
        " ('expect', 'drop'): <matplotlib.text.Text at 0x109689290>,\n",
        " ('expect', 'intensify'): <matplotlib.text.Text at 0x109489c90>,\n",
        " ('expect', 'leave'): <matplotlib.text.Text at 0x1098df4d0>,\n",
        " ('expect', 'produce'): <matplotlib.text.Text at 0x10ab8b390>,\n",
        " ('expect', 'strike'): <matplotlib.text.Text at 0x1091a8b10>,\n",
        " ('expect', 'turn'): <matplotlib.text.Text at 0x10a023d90>,\n",
        " ('flee', 'approach'): <matplotlib.text.Text at 0x10a013d50>,\n",
        " ('flee', 'arrive'): <matplotlib.text.Text at 0x10a0febd0>,\n",
        " ('flee', 'enter'): <matplotlib.text.Text at 0x109dff150>,\n",
        " ('flee', 'leave'): <matplotlib.text.Text at 0x109d71b50>,\n",
        " ('force', 'affect'): <matplotlib.text.Text at 0x10a0f13d0>,\n",
        " ('force', 'be'): <matplotlib.text.Text at 0x10a0e02d0>,\n",
        " ('force', 'destroy'): <matplotlib.text.Text at 0x10ab87350>,\n",
        " ('force', 'form'): <matplotlib.text.Text at 0x10a763f50>,\n",
        " ('force', 'kill'): <matplotlib.text.Text at 0x10a02b2d0>,\n",
        " ('force', 'reach'): <matplotlib.text.Text at 0x10a00ecd0>,\n",
        " ('force', 'turn'): <matplotlib.text.Text at 0x1094a29d0>,\n",
        " ('form', 'affect'): <matplotlib.text.Text at 0x109486b10>,\n",
        " ('form', 'reach'): <matplotlib.text.Text at 0x10ab6c090>,\n",
        " ('form', 'turn'): <matplotlib.text.Text at 0x109f19f50>,\n",
        " ('have', 'approach'): <matplotlib.text.Text at 0x109dc2210>,\n",
        " ('have', 'arrive'): <matplotlib.text.Text at 0x10a4de850>,\n",
        " ('have', 'enter'): <matplotlib.text.Text at 0x1096ab950>,\n",
        " ('have', 'flee'): <matplotlib.text.Text at 0x10a00d050>,\n",
        " ('have', 'leave'): <matplotlib.text.Text at 0x1096b4890>,\n",
        " ('have', 'make'): <matplotlib.text.Text at 0x10a0d2f90>,\n",
        " ('have', 'mention'): <matplotlib.text.Text at 0x1094bf510>,\n",
        " ('have', 'produce'): <matplotlib.text.Text at 0x109f24dd0>,\n",
        " ('have', 'start'): <matplotlib.text.Text at 0x10a0dc710>,\n",
        " ('have', 'strike'): <matplotlib.text.Text at 0x10a0ee190>,\n",
        " ('have', 'weaken'): <matplotlib.text.Text at 0x1098c4190>,\n",
        " ('hit', 'displace'): <matplotlib.text.Text at 0x109486550>,\n",
        " ('hit', 'drift'): <matplotlib.text.Text at 0x10949b690>,\n",
        " ('hit', 'enhance'): <matplotlib.text.Text at 0x108fa1390>,\n",
        " ('hit', 'follow'): <matplotlib.text.Text at 0x109deb890>,\n",
        " ('hit', 'name'): <matplotlib.text.Text at 0x109dd5fd0>,\n",
        " ('hit', 'pour'): <matplotlib.text.Text at 0x109d32bd0>,\n",
        " ('hit', 'ride'): <matplotlib.text.Text at 0x10949fcd0>,\n",
        " ('injure', 'cause'): <matplotlib.text.Text at 0x10a00aa50>,\n",
        " ('injure', 'destroy'): <matplotlib.text.Text at 0x10a0cae10>,\n",
        " ('injure', 'make'): <matplotlib.text.Text at 0x10ab95d90>,\n",
        " ('injure', 'produce'): <matplotlib.text.Text at 0x10a0d7310>,\n",
        " ('injure', 'strike'): <matplotlib.text.Text at 0x10a021a10>,\n",
        " ('injure', 'turn'): <matplotlib.text.Text at 0x1098cca50>,\n",
        " ('intensify', 'affect'): <matplotlib.text.Text at 0x109ddea50>,\n",
        " ('intensify', 'attain'): <matplotlib.text.Text at 0x108f7fd50>,\n",
        " ('intensify', 'continue'): <matplotlib.text.Text at 0x1094a2410>,\n",
        " ('intensify', 'destroy'): <matplotlib.text.Text at 0x10a0d1a50>,\n",
        " ('intensify', 'drop'): <matplotlib.text.Text at 0x109a61a90>,\n",
        " ('intensify', 'leave'): <matplotlib.text.Text at 0x1094ae2d0>,\n",
        " ('intensify', 'produce'): <matplotlib.text.Text at 0x109489110>,\n",
        " ('intensify', 'strike'): <matplotlib.text.Text at 0x1098d0bd0>,\n",
        " ('intensify', 'turn'): <matplotlib.text.Text at 0x1096bca10>,\n",
        " ('kill', 'affect'): <matplotlib.text.Text at 0x1094b6810>,\n",
        " ('kill', 'be'): <matplotlib.text.Text at 0x109de0610>,\n",
        " ('kill', 'destroy'): <matplotlib.text.Text at 0x109d4bf90>,\n",
        " ('kill', 'form'): <matplotlib.text.Text at 0x1096836d0>,\n",
        " ('kill', 'hit'): <matplotlib.text.Text at 0x1098dc350>,\n",
        " ('kill', 'reach'): <matplotlib.text.Text at 0x109183210>,\n",
        " ('kill', 'strike'): <matplotlib.text.Text at 0x10a033c50>,\n",
        " ('kill', 'turn'): <matplotlib.text.Text at 0x1098dfa90>,\n",
        " ('leave', 'attain'): <matplotlib.text.Text at 0x10ab98210>,\n",
        " ('leave', 'continue'): <matplotlib.text.Text at 0x109dea790>,\n",
        " ('leave', 'enter'): <matplotlib.text.Text at 0x109dea1d0>,\n",
        " ('leave', 'turn'): <matplotlib.text.Text at 0x1098d7d50>,\n",
        " ('maintain', 'affect'): <matplotlib.text.Text at 0x10a0d29d0>,\n",
        " ('maintain', 'develop'): <matplotlib.text.Text at 0x1091b6290>,\n",
        " ('maintain', 'displace'): <matplotlib.text.Text at 0x1096a4ad0>,\n",
        " ('maintain', 'drift'): <matplotlib.text.Text at 0x10a0fe610>,\n",
        " ('maintain', 'enhance'): <matplotlib.text.Text at 0x1098efad0>,\n",
        " ('maintain', 'hit'): <matplotlib.text.Text at 0x109d32590>,\n",
        " ('maintain', 'name'): <matplotlib.text.Text at 0x10ab96c10>,\n",
        " ('maintain', 'pour'): <matplotlib.text.Text at 0x10ab83790>,\n",
        " ('maintain', 'result'): <matplotlib.text.Text at 0x10a016910>,\n",
        " ('maintain', 'slow'): <matplotlib.text.Text at 0x109dd1e90>,\n",
        " ('maintain', 'trigger'): <matplotlib.text.Text at 0x10948bb90>,\n",
        " ('make', 'approach'): <matplotlib.text.Text at 0x1096a7150>,\n",
        " ('make', 'arrive'): <matplotlib.text.Text at 0x10a00a490>,\n",
        " ('make', 'cause'): <matplotlib.text.Text at 0x10a02be50>,\n",
        " ('make', 'destroy'): <matplotlib.text.Text at 0x10949bc50>,\n",
        " ('make', 'enter'): <matplotlib.text.Text at 0x10919add0>,\n",
        " ('make', 'flee'): <matplotlib.text.Text at 0x10a0c5110>,\n",
        " ('make', 'follow'): <matplotlib.text.Text at 0x10a0e3450>,\n",
        " ('make', 'hit'): <matplotlib.text.Text at 0x10969e550>,\n",
        " ('make', 'leave'): <matplotlib.text.Text at 0x108dc8d50>,\n",
        " ('make', 'mention'): <matplotlib.text.Text at 0x109dd18d0>,\n",
        " ('make', 'produce'): <matplotlib.text.Text at 0x10a01ba90>,\n",
        " ('make', 'ride'): <matplotlib.text.Text at 0x109d25410>,\n",
        " ('make', 'start'): <matplotlib.text.Text at 0x10a4de290>,\n",
        " ('make', 'strike'): <matplotlib.text.Text at 0x1096a1590>,\n",
        " ('make', 'turn'): <matplotlib.text.Text at 0x10a0ca290>,\n",
        " ('mention', 'approach'): <matplotlib.text.Text at 0x10a001190>,\n",
        " ('mention', 'arrive'): <matplotlib.text.Text at 0x108fa1950>,\n",
        " ('mention', 'enter'): <matplotlib.text.Text at 0x1094b6250>,\n",
        " ('mention', 'flee'): <matplotlib.text.Text at 0x1094bdf50>,\n",
        " ('mention', 'leave'): <matplotlib.text.Text at 0x1096a7710>,\n",
        " ('mention', 'produce'): <matplotlib.text.Text at 0x10a023210>,\n",
        " ('move', 'affect'): <matplotlib.text.Text at 0x109dc0b90>,\n",
        " ('move', 'approach'): <matplotlib.text.Text at 0x10a0f1f50>,\n",
        " ('move', 'arrive'): <matplotlib.text.Text at 0x1098ebd90>,\n",
        " ('move', 'cause'): <matplotlib.text.Text at 0x10ab831d0>,\n",
        " ('move', 'close'): <matplotlib.text.Text at 0x10a03ab90>,\n",
        " ('move', 'develop'): <matplotlib.text.Text at 0x109180650>,\n",
        " ('move', 'displace'): <matplotlib.text.Text at 0x10a4ad6d0>,\n",
        " ('move', 'drift'): <matplotlib.text.Text at 0x10a927810>,\n",
        " ('move', 'enhance'): <matplotlib.text.Text at 0x10ab6c650>,\n",
        " ('move', 'enter'): <matplotlib.text.Text at 0x1091b99d0>,\n",
        " ('move', 'flee'): <matplotlib.text.Text at 0x109694410>,\n",
        " ('move', 'have'): <matplotlib.text.Text at 0x108f7f790>,\n",
        " ('move', 'hit'): <matplotlib.text.Text at 0x1098e7c10>,\n",
        " ('move', 'injure'): <matplotlib.text.Text at 0x10a1c8250>,\n",
        " ('move', 'intensify'): <matplotlib.text.Text at 0x10a00e710>,\n",
        " ('move', 'leave'): <matplotlib.text.Text at 0x10a001d10>,\n",
        " ('move', 'maintain'): <matplotlib.text.Text at 0x10a00d610>,\n",
        " ('move', 'make'): <matplotlib.text.Text at 0x108fa94d0>,\n",
        " ('move', 'mention'): <matplotlib.text.Text at 0x10917f790>,\n",
        " ('move', 'name'): <matplotlib.text.Text at 0x10a0f9a50>,\n",
        " ('move', 'pass'): <matplotlib.text.Text at 0x109dffcd0>,\n",
        " ('move', 'pour'): <matplotlib.text.Text at 0x10a4ad110>,\n",
        " ('move', 'produce'): <matplotlib.text.Text at 0x1098d71d0>,\n",
        " ('move', 'result'): <matplotlib.text.Text at 0x109f19990>,\n",
        " ('move', 'slow'): <matplotlib.text.Text at 0x109de0bd0>,\n",
        " ('move', 'start'): <matplotlib.text.Text at 0x10ab9c950>,\n",
        " ('move', 'strike'): <matplotlib.text.Text at 0x10a0c1b10>,\n",
        " ('move', 'sweep'): <matplotlib.text.Text at 0x1096a7cd0>,\n",
        " ('move', 'trigger'): <matplotlib.text.Text at 0x108fa1ed0>,\n",
        " ('move', 'weaken'): <matplotlib.text.Text at 0x109dc05d0>,\n",
        " ('name', 'enhance'): <matplotlib.text.Text at 0x10ab957d0>,\n",
        " ('name', 'pour'): <matplotlib.text.Text at 0x1098c4750>,\n",
        " ('pass', 'cause'): <matplotlib.text.Text at 0x10a0fe050>,\n",
        " ('pass', 'destroy'): <matplotlib.text.Text at 0x1098d7790>,\n",
        " ('pass', 'injure'): <matplotlib.text.Text at 0x10ab87910>,\n",
        " ('pass', 'make'): <matplotlib.text.Text at 0x10ab95210>,\n",
        " ('pass', 'produce'): <matplotlib.text.Text at 0x10a016ed0>,\n",
        " ('pass', 'result'): <matplotlib.text.Text at 0x1098c8310>,\n",
        " ('pass', 'strike'): <matplotlib.text.Text at 0x10a0f4310>,\n",
        " ('pass', 'turn'): <matplotlib.text.Text at 0x1096ac810>,\n",
        " ('pour', 'enhance'): <matplotlib.text.Text at 0x10a02ead0>,\n",
        " ('produce', 'approach'): <matplotlib.text.Text at 0x109defed0>,\n",
        " ('produce', 'arrive'): <matplotlib.text.Text at 0x1096acdd0>,\n",
        " ('produce', 'attain'): <matplotlib.text.Text at 0x1096f4e10>,\n",
        " ('produce', 'continue'): <matplotlib.text.Text at 0x109d71590>,\n",
        " ('produce', 'drop'): <matplotlib.text.Text at 0x109a61150>,\n",
        " ('produce', 'enter'): <matplotlib.text.Text at 0x109debe50>,\n",
        " ('produce', 'flee'): <matplotlib.text.Text at 0x10a0c5c90>,\n",
        " ('produce', 'leave'): <matplotlib.text.Text at 0x10ab9cf10>,\n",
        " ('produce', 'turn'): <matplotlib.text.Text at 0x109183d90>,\n",
        " ('ravage', 'breach'): <matplotlib.text.Text at 0x109d250d0>,\n",
        " ('ravage', 'come'): <matplotlib.text.Text at 0x1096bcfd0>,\n",
        " ('ravage', 'destroy'): <matplotlib.text.Text at 0x1094ae890>,\n",
        " ('ravage', 'take'): <matplotlib.text.Text at 0x10ab8fa90>,\n",
        " ('reach', 'affect'): <matplotlib.text.Text at 0x10a001750>,\n",
        " ('reach', 'continue'): <matplotlib.text.Text at 0x1096bb3d0>,\n",
        " ('reach', 'turn'): <matplotlib.text.Text at 0x10641f110>,\n",
        " ('remain', 'undergo'): <matplotlib.text.Text at 0x1091b9410>,\n",
        " ('result', 'cause'): <matplotlib.text.Text at 0x1098e7090>,\n",
        " ('result', 'destroy'): <matplotlib.text.Text at 0x10a0e0890>,\n",
        " ('result', 'develop'): <matplotlib.text.Text at 0x108f7f1d0>,\n",
        " ('result', 'displace'): <matplotlib.text.Text at 0x10a0d6590>,\n",
        " ('result', 'drift'): <matplotlib.text.Text at 0x10a0dccd0>,\n",
        " ('result', 'enhance'): <matplotlib.text.Text at 0x10ab87ed0>,\n",
        " ('result', 'hit'): <matplotlib.text.Text at 0x109deb2d0>,\n",
        " ('result', 'injure'): <matplotlib.text.Text at 0x1091a1990>,\n",
        " ('result', 'make'): <matplotlib.text.Text at 0x10969eb10>,\n",
        " ('result', 'name'): <matplotlib.text.Text at 0x1096bbf50>,\n",
        " ('result', 'pour'): <matplotlib.text.Text at 0x109dd1310>,\n",
        " ('result', 'produce'): <matplotlib.text.Text at 0x10a033690>,\n",
        " ('result', 'slow'): <matplotlib.text.Text at 0x1096bb990>,\n",
        " ('result', 'trigger'): <matplotlib.text.Text at 0x1091b6850>,\n",
        " ('result', 'turn'): <matplotlib.text.Text at 0x109d4b9d0>,\n",
        " ('ride', 'follow'): <matplotlib.text.Text at 0x109694f90>,\n",
        " ('slow', 'develop'): <matplotlib.text.Text at 0x109754690>,\n",
        " ('slow', 'displace'): <matplotlib.text.Text at 0x10968db90>,\n",
        " ('slow', 'drift'): <matplotlib.text.Text at 0x109f24250>,\n",
        " ('slow', 'enhance'): <matplotlib.text.Text at 0x10a0f9490>,\n",
        " ('slow', 'hit'): <matplotlib.text.Text at 0x10a02b890>,\n",
        " ('slow', 'name'): <matplotlib.text.Text at 0x10ab96090>,\n",
        " ('slow', 'pour'): <matplotlib.text.Text at 0x10ab7cbd0>,\n",
        " ('slow', 'trigger'): <matplotlib.text.Text at 0x1096bc450>,\n",
        " ('spawn', 'develop'): <matplotlib.text.Text at 0x10a0d7e90>,\n",
        " ('spawn', 'displace'): <matplotlib.text.Text at 0x109484450>,\n",
        " ('spawn', 'drift'): <matplotlib.text.Text at 0x1094b5590>,\n",
        " ('spawn', 'dump'): <matplotlib.text.Text at 0x10a004e90>,\n",
        " ('spawn', 'enhance'): <matplotlib.text.Text at 0x10a4bf550>,\n",
        " ('spawn', 'hit'): <matplotlib.text.Text at 0x10a03a5d0>,\n",
        " ('spawn', 'maintain'): <matplotlib.text.Text at 0x10a013790>,\n",
        " ('spawn', 'move'): <matplotlib.text.Text at 0x1091b8910>,\n",
        " ('spawn', 'name'): <matplotlib.text.Text at 0x10641fdd0>,\n",
        " ('spawn', 'pour'): <matplotlib.text.Text at 0x10a00e150>,\n",
        " ('spawn', 'result'): <matplotlib.text.Text at 0x10a927e10>,\n",
        " ('spawn', 'slow'): <matplotlib.text.Text at 0x1096f4810>,\n",
        " ('spawn', 'trigger'): <matplotlib.text.Text at 0x10918a4d0>,\n",
        " ('start', 'approach'): <matplotlib.text.Text at 0x1091837d0>,\n",
        " ('start', 'arrive'): <matplotlib.text.Text at 0x109dc2d90>,\n",
        " ('start', 'enter'): <matplotlib.text.Text at 0x10a0e95d0>,\n",
        " ('start', 'flee'): <matplotlib.text.Text at 0x10abe5410>,\n",
        " ('start', 'leave'): <matplotlib.text.Text at 0x10a0e3a10>,\n",
        " ('start', 'mention'): <matplotlib.text.Text at 0x109dc7d10>,\n",
        " ('start', 'produce'): <matplotlib.text.Text at 0x109def910>,\n",
        " ('start', 'strike'): <matplotlib.text.Text at 0x109188f10>,\n",
        " ('stricken', 'cause'): <matplotlib.text.Text at 0x10917fd50>,\n",
        " ('stricken', 'follow'): <matplotlib.text.Text at 0x1096a4510>,\n",
        " ('stricken', 'hit'): <matplotlib.text.Text at 0x10a0ed190>,\n",
        " ('stricken', 'make'): <matplotlib.text.Text at 0x108f22610>,\n",
        " ('stricken', 'ride'): <matplotlib.text.Text at 0x10a0131d0>,\n",
        " ('stricken', 'strike'): <matplotlib.text.Text at 0x10ab83d50>,\n",
        " ('strike', 'approach'): <matplotlib.text.Text at 0x1098eb210>,\n",
        " ('strike', 'arrive'): <matplotlib.text.Text at 0x108f8dbd0>,\n",
        " ('strike', 'attain'): <matplotlib.text.Text at 0x10949f150>,\n",
        " ('strike', 'cause'): <matplotlib.text.Text at 0x109df1b50>,\n",
        " ('strike', 'continue'): <matplotlib.text.Text at 0x1098c8e90>,\n",
        " ('strike', 'destroy'): <matplotlib.text.Text at 0x109484fd0>,\n",
        " ('strike', 'drop'): <matplotlib.text.Text at 0x109dc27d0>,\n",
        " ('strike', 'enter'): <matplotlib.text.Text at 0x1097540d0>,\n",
        " ('strike', 'flee'): <matplotlib.text.Text at 0x108f8d610>,\n",
        " ('strike', 'follow'): <matplotlib.text.Text at 0x109d4b410>,\n",
        " ('strike', 'hit'): <matplotlib.text.Text at 0x10a0ee750>,\n",
        " ('strike', 'leave'): <matplotlib.text.Text at 0x10918ead0>,\n",
        " ('strike', 'mention'): <matplotlib.text.Text at 0x1096abf10>,\n",
        " ('strike', 'produce'): <matplotlib.text.Text at 0x1094bd990>,\n",
        " ('strike', 'ride'): <matplotlib.text.Text at 0x10948b5d0>,\n",
        " ('strike', 'turn'): <matplotlib.text.Text at 0x10a037250>,\n",
        " ('sweep', 'approach'): <matplotlib.text.Text at 0x10a021fd0>,\n",
        " ('sweep', 'arrive'): <matplotlib.text.Text at 0x10949c290>,\n",
        " ('sweep', 'enter'): <matplotlib.text.Text at 0x109df9a90>,\n",
        " ('sweep', 'flee'): <matplotlib.text.Text at 0x10a0d78d0>,\n",
        " ('sweep', 'have'): <matplotlib.text.Text at 0x10ab98d90>,\n",
        " ('sweep', 'leave'): <matplotlib.text.Text at 0x1094bfad0>,\n",
        " ('sweep', 'make'): <matplotlib.text.Text at 0x1096b42d0>,\n",
        " ('sweep', 'mention'): <matplotlib.text.Text at 0x10a0d2410>,\n",
        " ('sweep', 'produce'): <matplotlib.text.Text at 0x10919a810>,\n",
        " ('sweep', 'start'): <matplotlib.text.Text at 0x1098c4d10>,\n",
        " ('sweep', 'strike'): <matplotlib.text.Text at 0x10a021450>,\n",
        " ('sweep', 'weaken'): <matplotlib.text.Text at 0x109690690>,\n",
        " ('take', 'breach'): <matplotlib.text.Text at 0x1091b6e10>,\n",
        " ('take', 'destroy'): <matplotlib.text.Text at 0x10ab96650>,\n",
        " ('trigger', 'displace'): <matplotlib.text.Text at 0x10a022c10>,\n",
        " ('trigger', 'drift'): <matplotlib.text.Text at 0x1096900d0>,\n",
        " ('trigger', 'enhance'): <matplotlib.text.Text at 0x10918e510>,\n",
        " ('trigger', 'hit'): <matplotlib.text.Text at 0x109188390>,\n",
        " ('trigger', 'name'): <matplotlib.text.Text at 0x109683110>,\n",
        " ('trigger', 'pour'): <matplotlib.text.Text at 0x10a4bfb10>,\n",
        " ('turn', 'attain'): <matplotlib.text.Text at 0x109df3650>,\n",
        " ('turn', 'continue'): <matplotlib.text.Text at 0x10a4adc90>,\n",
        " ('turn', 'remain'): <matplotlib.text.Text at 0x1094bd3d0>,\n",
        " ('turn', 'undergo'): <matplotlib.text.Text at 0x10a0d1490>,\n",
        " ('weaken', 'affect'): <matplotlib.text.Text at 0x10a0eed10>,\n",
        " ('weaken', 'approach'): <matplotlib.text.Text at 0x1091b8ed0>,\n",
        " ('weaken', 'arrive'): <matplotlib.text.Text at 0x10919a250>,\n",
        " ('weaken', 'begin'): <matplotlib.text.Text at 0x109683c90>,\n",
        " ('weaken', 'cause'): <matplotlib.text.Text at 0x109689850>,\n",
        " ('weaken', 'continue'): <matplotlib.text.Text at 0x10a02e510>,\n",
        " ('weaken', 'enter'): <matplotlib.text.Text at 0x10a0e3fd0>,\n",
        " ('weaken', 'execute'): <matplotlib.text.Text at 0x10a7720d0>,\n",
        " ('weaken', 'flee'): <matplotlib.text.Text at 0x10917f1d0>,\n",
        " ('weaken', 'leave'): <matplotlib.text.Text at 0x10a4dee10>,\n",
        " ('weaken', 'make'): <matplotlib.text.Text at 0x1091acc90>,\n",
        " ('weaken', 'mention'): <matplotlib.text.Text at 0x109dff710>,\n",
        " ('weaken', 'produce'): <matplotlib.text.Text at 0x1094896d0>,\n",
        " ('weaken', 'reach'): <matplotlib.text.Text at 0x10641f790>,\n",
        " ('weaken', 'start'): <matplotlib.text.Text at 0x1098ef510>,\n",
        " ('weaken', 'steer'): <matplotlib.text.Text at 0x1091ac110>}"
       ]
      },
      {
       "metadata": {},
       "output_type": "display_data",
       "png": "[encoded data removed]",
       "text": [
        "<matplotlib.figure.Figure at 0x109a218d0>"
       ]
      }
     ],
     "prompt_number": 14
    },
    {
     "cell_type": "code",
     "collapsed": false,
     "input": [],
     "language": "python",
     "metadata": {},
     "outputs": []
    }
   ],
   "metadata": {}
  }
 ]
}